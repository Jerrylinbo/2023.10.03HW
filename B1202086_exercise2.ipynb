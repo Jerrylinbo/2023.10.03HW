{
  "nbformat": 4,
  "nbformat_minor": 0,
  "metadata": {
    "colab": {
      "provenance": []
    },
    "kernelspec": {
      "name": "python3",
      "display_name": "Python 3"
    },
    "language_info": {
      "name": "python"
    }
  },
  "cells": [
    {
      "cell_type": "code",
      "execution_count": 8,
      "metadata": {
        "colab": {
          "base_uri": "https://localhost:8080/"
        },
        "id": "IgkBDqVzW7EB",
        "outputId": "a8449d83-5c69-4314-82d8-b4a70aa049de"
      },
      "outputs": [
        {
          "output_type": "stream",
          "name": "stdout",
          "text": [
            "['K', 'G', 'H', 'U']\n",
            "A\n"
          ]
        }
      ],
      "source": [
        "a='C,B,A'\n",
        "b=['F','G','H']\n",
        "a=a.split(',')\n",
        "c=a+b\n",
        "c[0]='K'\n",
        "d=c.pop(2)\n",
        "del c[1:3]\n",
        "c.append('U')\n",
        "print(c)\n",
        "print(d)"
      ]
    },
    {
      "cell_type": "code",
      "source": [
        "a=float(input('請輸入身高:'))\n",
        "b=float(input('請輸入體重:'))\n",
        "a/=100\n",
        "a=a**2\n",
        "c=b/a\n",
        "if c<18.5:\n",
        "  print('BMI:',c)\n",
        "  print('體位:過輕')\n",
        "elif 18.5<=c<24:\n",
        "  print('BMI:',c)\n",
        "  print('體位:適中')\n",
        "elif 24<=c<27:\n",
        "  print('BMI:',c)\n",
        "  print('體位:過重')\n",
        "else:\n",
        "  print('BMI:',c)\n",
        "  print('體位:肥胖')"
      ],
      "metadata": {
        "colab": {
          "base_uri": "https://localhost:8080/"
        },
        "id": "CK1R9xj1kAzx",
        "outputId": "65871225-3934-49f9-8c4a-de4d76290171"
      },
      "execution_count": 19,
      "outputs": [
        {
          "output_type": "stream",
          "name": "stdout",
          "text": [
            "請輸入身高:180\n",
            "請輸入體重:90\n",
            "BMI: 27.777777777777775\n",
            "體位:肥胖\n"
          ]
        }
      ]
    }
  ]
}
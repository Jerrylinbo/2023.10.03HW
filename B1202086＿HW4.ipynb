{
  "nbformat": 4,
  "nbformat_minor": 0,
  "metadata": {
    "colab": {
      "provenance": []
    },
    "kernelspec": {
      "name": "python3",
      "display_name": "Python 3"
    },
    "language_info": {
      "name": "python"
    }
  },
  "cells": [
    {
      "cell_type": "code",
      "execution_count": 24,
      "metadata": {
        "colab": {
          "base_uri": "https://localhost:8080/"
        },
        "id": "cr2OyqFTX1Vs",
        "outputId": "5da4c912-7f9d-4f74-ff6a-468b5483088a"
      },
      "outputs": [
        {
          "output_type": "stream",
          "name": "stdout",
          "text": [
            "請輸入成績:50 50 60 70 70\n",
            "60.0\n"
          ]
        }
      ],
      "source": [
        "a=str(input('請輸入成績:'))\n",
        "a=a.split(' ')\n",
        "a=list(map(int, a))\n",
        "if a[0]>=a[1] and a[0]>=a[2] and a[0]>=a[3] and a[0]>=a[4]:\n",
        "  del a[0]\n",
        "elif a[1]>=a[0] and a[1]>=a[2] and a[1]>=a[3] and a[1]>=a[4]:\n",
        "  del a[1]\n",
        "elif a[2]>=a[0] and a[2]>=a[1] and a[2]>=a[3] and a[2]>=a[4]:\n",
        "  del a[2]\n",
        "elif a[3]>=a[0] and a[3]>=a[1] and a[3]>=a[2] and a[3]>=a[4]:\n",
        "  del a[3]\n",
        "else:\n",
        "  del a[4]\n",
        "\n",
        "if a[0]<=a[1] and a[0]<=a[2] and a[0]<=a[3]:\n",
        "  del a[0]\n",
        "elif a[1]<=a[0] and a[1]<=a[2] and a[1]<=a[3]:\n",
        "  del a[1]\n",
        "elif a[2]<=a[0] and a[2]<=a[1] and a[2]<=a[3]:\n",
        "  del a[2]\n",
        "else:\n",
        "  del a[3]\n",
        "\n",
        "\n",
        "b=(a[0]+a[1]+a[2])/3\n",
        "print(b)\n"
      ]
    },
    {
      "cell_type": "code",
      "source": [
        "a=int(input('輸入一個數字:'))\n",
        "b=int(input('輸入另一個數字:'))\n",
        "c=input('輸入運算符號:')\n",
        "if c==str('+'):\n",
        "  c= a+b\n",
        "elif c==str('-'):\n",
        "  c= a-b\n",
        "elif c==str('*'):\n",
        "  c= a*b\n",
        "elif c==str('/'):\n",
        "  c= a/b\n",
        "else:\n",
        "  print('Error')\n",
        "print(c)"
      ],
      "metadata": {
        "colab": {
          "base_uri": "https://localhost:8080/"
        },
        "id": "ivl0XgXXYXJG",
        "outputId": "1a5cf801-d06d-4467-f43c-b13871cd90f4"
      },
      "execution_count": 23,
      "outputs": [
        {
          "output_type": "stream",
          "name": "stdout",
          "text": [
            "輸入一個數字:5\n",
            "輸入另一個數字:1\n",
            "輸入運算符號:/\n",
            "5.0\n"
          ]
        }
      ]
    },
    {
      "cell_type": "code",
      "source": [
        "a=int(input('請輸入年份:'))\n",
        "if a<=1582:\n",
        "  if a%4==0:\n",
        "    print('閏年')\n",
        "  else:\n",
        "    print('平年')\n",
        "else:\n",
        "  if a%4==0 and a%100!=0 or a%400==0:\n",
        "    print('閏年')\n",
        "  else:\n",
        "    print('平年')"
      ],
      "metadata": {
        "colab": {
          "base_uri": "https://localhost:8080/"
        },
        "id": "h9O9FG-MYXND",
        "outputId": "67885130-33d1-4b2c-b49d-79ce1c89083f"
      },
      "execution_count": 25,
      "outputs": [
        {
          "output_type": "stream",
          "name": "stdout",
          "text": [
            "請輸入年份:1500\n",
            "閏年\n"
          ]
        }
      ]
    }
  ]
}